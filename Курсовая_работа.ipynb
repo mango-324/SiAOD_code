{
  "cells": [
    {
      "cell_type": "markdown",
      "metadata": {
        "id": "eRrcVubnKlEP"
      },
      "source": [
        "# Курсовая работа\n",
        "# Выполнила Шубина Мария БФИ2202"
      ]
    },
    {
      "cell_type": "code",
      "execution_count": null,
      "metadata": {
        "id": "qWUJ2pjVKlEQ"
      },
      "outputs": [],
      "source": [
        "class Node:\n",
        "    def __init__(self, value):\n",
        "        self.value = value\n",
        "        self.next = None\n",
        "        self.previous = None\n",
        "\n",
        "# Реализация дека через двусвязный список\n",
        "class Deque:\n",
        "    def __init__(self, *args):\n",
        "        self.size = 0\n",
        "        self.head = None\n",
        "        self.end = None\n",
        "        for x in args:\n",
        "            self.pushBack(x)\n",
        "            self.size += 1\n",
        "\n",
        "    def isEmpty(self):\n",
        "        return self.head is None\n",
        "\n",
        "    def pushBack(self, value):\n",
        "        self.size += 1\n",
        "        tmp = Node(value)\n",
        "        if self.isEmpty():\n",
        "            self.head = tmp\n",
        "            self.end = tmp\n",
        "        else:\n",
        "            self.end.next = tmp\n",
        "            tmp.previous = self.end\n",
        "            self.end = tmp\n",
        "\n",
        "    def pushTop(self, value):\n",
        "        self.size += 1\n",
        "        tmp = Node(value)\n",
        "        if self.isEmpty():\n",
        "            self.head = tmp\n",
        "            self.end = tmp\n",
        "        else:\n",
        "            self.head.previous = tmp\n",
        "            tmp.next = self.head\n",
        "            self.head = tmp\n",
        "\n",
        "    def popTop(self, readOnly=False):\n",
        "        if self.isEmpty():\n",
        "            return None\n",
        "        if readOnly:\n",
        "            return self.head.value\n",
        "        self.size -= 1\n",
        "        tmp = self.head.value\n",
        "        if self.size == 0:\n",
        "            self.head = None\n",
        "            self.end = None\n",
        "            return tmp\n",
        "        self.head = self.head.next\n",
        "        if self.head is not None:\n",
        "            self.head.previous = None\n",
        "        return tmp\n",
        "\n",
        "    def popBack(self, readOnly=False):\n",
        "        if self.isEmpty():\n",
        "            return None\n",
        "        if readOnly:\n",
        "            return self.end.value\n",
        "        self.size -= 1\n",
        "        tmp = self.end.value\n",
        "        if self.size == 0:\n",
        "            self.head = None\n",
        "            self.end = None\n",
        "            return tmp\n",
        "        self.end = self.end.previous\n",
        "        if self.end is not None:\n",
        "            self.end.next = None\n",
        "        return tmp\n",
        "\n",
        "    def __repr__(self):\n",
        "        line = '<'\n",
        "        pointer = self.head\n",
        "        for _ in range(self.size):\n",
        "            line += str(pointer.value)\n",
        "            pointer = pointer.next\n",
        "            line += \" ; \"\n",
        "        line += '>'\n",
        "        return line"
      ]
    },
    {
      "cell_type": "code",
      "execution_count": null,
      "metadata": {
        "id": "mVKmogvjKlER"
      },
      "outputs": [],
      "source": [
        "# Хэш-таблица с использованием метода цепочек для рехеширования\n",
        "class Hash:\n",
        "\n",
        "    def __init__(self, size):\n",
        "        self.size = size\n",
        "        self.keys = [None for _ in range(self.size)]\n",
        "        self.values = [None for _ in range(self.size)]\n",
        "        self.hashFunc = lambda key: (sum([ord(x) for x in key]) + len(key)) % self.size\n",
        "\n",
        "    def put(self, key, value):\n",
        "        hashkey = self.hashFunc(key)\n",
        "        if self.keys[hashkey] is None:\n",
        "            self.keys[hashkey] = Deque()\n",
        "            self.values[hashkey] = Deque()\n",
        "            self.keys[hashkey].pushBack(key)\n",
        "            self.values[hashkey].pushBack(value)\n",
        "        else:\n",
        "            pointer_k = self.keys[hashkey].head\n",
        "            pointer_v = self.values[hashkey].head\n",
        "            flag = True\n",
        "            while pointer_k is not None:\n",
        "                if pointer_k.value == key:\n",
        "                    pointer_v.value = value\n",
        "                    flag = False\n",
        "                    break\n",
        "                else:\n",
        "                    pointer_k = pointer_k.next\n",
        "                    pointer_v = pointer_v.next\n",
        "            if flag:\n",
        "                self.keys[hashkey].pushBack(key)\n",
        "                self.values[hashkey].pushBack(value)\n",
        "\n",
        "\n",
        "    def get(self, key):\n",
        "        hashkey = self.hashFunc(key)\n",
        "        if self.keys[hashkey] is None:\n",
        "            return None\n",
        "        ptr_k = self.keys[hashkey].head\n",
        "        ptr_v = self.values[hashkey].head\n",
        "        for i in range (self.keys[hashkey].size):\n",
        "            if ptr_k.value == key:\n",
        "                return ptr_v.value\n",
        "            ptr_k = ptr_k.next\n",
        "            ptr_v = ptr_v.next\n",
        "        return None\n",
        "\n",
        "    def get_all_labels(self):\n",
        "        res = []\n",
        "        for x in self.keys:\n",
        "            if x is not None:\n",
        "                pointer = x.head\n",
        "                while pointer is not None:\n",
        "                    res.append(pointer.value)\n",
        "                    pointer = pointer.next\n",
        "        return res\n"
      ]
    },
    {
      "cell_type": "markdown",
      "metadata": {
        "id": "MiT_vxbSKlER"
      },
      "source": [
        "## Загрузка данных из CSV"
      ]
    },
    {
      "cell_type": "code",
      "execution_count": null,
      "metadata": {
        "colab": {
          "base_uri": "https://localhost:8080/"
        },
        "id": "SSbXyV9PKlES",
        "outputId": "3f0f07e2-c691-4a2e-f7a0-ab2bbdec8bd0"
      },
      "outputs": [
        {
          "output_type": "stream",
          "name": "stdout",
          "text": [
            "Ошибка данных в строке 16\n",
            "{'1': {'name': 'Батон', 'date': '20.05.2024', 'category': 'Хлебобулочные изделия', 'sells': 1, 'price': 59, 'cost': 59}, '2': {'name': 'Помидоры', 'date': '20.05.2024', 'category': 'Овощи и фрукты', 'sells': 3, 'price': 350, 'cost': 1050}, '3': {'name': 'Куриная грудка', 'date': '20.05.2024', 'category': 'Рыба и мясо', 'sells': 2, 'price': 539, 'cost': 988}, '4': {'name': 'Зубная паста', 'date': '20.05.2024', 'category': 'Бытовые товары', 'sells': 1, 'price': 229, 'cost': 229}, '5': {'name': 'Бананы', 'date': '20.05.2024', 'category': 'Овощи и фрукты', 'sells': 2, 'price': 209, 'cost': 418}, '6': {'name': 'Шоколадка', 'date': '21.05.2024', 'category': 'Сладкое', 'sells': 4, 'price': 195, 'cost': 750}, '7': {'name': 'Яйца', 'date': '21.05.2024', 'category': 'Бакалея', 'sells': 1, 'price': 156, 'cost': 156}, '8': {'name': 'Чипсы', 'date': '21.05.2024', 'category': 'Снеки', 'sells': 3, 'price': 165, 'cost': 495}, '9': {'name': 'Сосиски', 'date': '22.05.2024', 'category': 'Рыба и мясо', 'sells': 2, 'price': 339, 'cost': 678}, '10': {'name': 'Пирог', 'date': '22.05.2024', 'category': 'Хлебобулочные изделия', 'sells': 2, 'price': 471, 'cost': 942}, '11': {'name': 'Пряники', 'date': '22.05.2024', 'category': 'Сладкое', 'sells': 3, 'price': 110, 'cost': 330}, '12': {'name': 'Лапша', 'date': '22.05.2024', 'category': 'Бакалея', 'sells': 5, 'price': 90, 'cost': 450}, '13': {'name': 'Банка кофе', 'date': '22.05.2024', 'category': 'Бакалея', 'sells': 3, 'price': 296, 'cost': 865}, '14': {'name': 'Лимонад', 'date': '23.05.2024', 'category': 'Напитки', 'sells': 1, 'price': 129, 'cost': 129}, '15': {'name': 'Огурцы', 'date': '23.05.2024', 'category': 'Овощи и фрукты', 'sells': 3, 'price': 216, 'cost': 648}, '16': {'name': 'Салфетки', 'date': '23.05.2024', 'category': 'Бытовые товары', 'sells': 1, 'price': 175, 'cost': 175}, '17': {'name': 'Шампунь', 'date': '23.05.2024', 'category': 'Косметика', 'sells': 1, 'price': 367, 'cost': 367}, '18': {'name': 'Сок', 'date': '23.05.2024', 'category': 'Напитки', 'sells': 3, 'price': 201, 'cost': 603}, '19': {'name': 'Печенье', 'date': '23.05.2024', 'category': 'Сладкое', 'sells': 4, 'price': 176, 'cost': 699}, '20': {'name': 'Орехи', 'date': '23.05.2024', 'category': 'Снеки', 'sells': 1, 'price': 375, 'cost': 375}, '21': {'name': 'Манго', 'date': '24.05.2024', 'category': 'Овощи и фрукты', 'sells': 7, 'price': 357, 'cost': 2499}, '22': {'name': 'Молоко', 'date': '24.05.2024', 'category': 'Молочная продукция', 'sells': 5, 'price': 82, 'cost': 410}, '23': {'name': 'Пельмени', 'date': '24.05.2024', 'category': 'Замороженные продукты', 'sells': 6, 'price': 389, 'cost': 2334}, '24': {'name': 'Булочка', 'date': '24.05.2024', 'category': 'Хлебобулочные изделия', 'sells': 3, 'price': 78, 'cost': 234}, '25': {'name': 'Лапша', 'date': '24.05.2024', 'category': 'Бакалея', 'sells': 2, 'price': 90, 'cost': 180}, '26': {'name': 'Куриная грудка', 'date': '25.05.2024', 'category': 'Рыба и мясо', 'sells': 4, 'price': 539, 'cost': 1976}, '27': {'name': 'Банка кофе', 'date': '25.05.2024', 'category': 'Бакалея', 'sells': 6, 'price': 296, 'cost': 1730}, '28': {'name': 'Пицца', 'date': '25.05.2024', 'category': 'Замороженные продукты', 'sells': 3, 'price': 480, 'cost': 1440}, '29': {'name': 'Кефир', 'date': '26.05.2024', 'category': 'Молочная продукция', 'sells': 1, 'price': 96, 'cost': 96}, '30': {'name': 'Лимонад', 'date': '26.05.2024', 'category': 'Напитки', 'sells': 4, 'price': 129, 'cost': 516}, '31': {'name': 'Шоколадка', 'date': '26.05.2024', 'category': 'Сладкое', 'sells': 2, 'price': 195, 'cost': 375}, '32': {'name': 'Лапша', 'date': '26.05.2024', 'category': 'Бакалея', 'sells': 2, 'price': 90, 'cost': 180}, '33': {'name': 'Огурцы', 'date': '26.05.2024', 'category': 'Овощи и фрукты', 'sells': 3, 'price': 216, 'cost': 648}}\n",
            "['Батон', 'Банка кофе', 'Лапша', 'Пирог', 'Кефир', 'Куриная грудка', 'Орехи', 'Пицца', 'Чипсы', 'Бананы', 'Молоко', 'Огурцы', 'Лимонад', 'Булочка', 'Сосиски', 'Зубная паста', 'Печенье', 'Пряники', 'Сок', 'Шампунь', 'Салфетки', 'Апельсин', 'Пельмени', 'Помидоры', 'Яйца', 'Шоколадка', 'Манго']\n"
          ]
        }
      ],
      "source": [
        "import csv\n",
        "\n",
        "csv_ord = {}\n",
        "hashtable = Hash(256)\n",
        "# Открытие CSV файла\n",
        "with open('order.csv', 'r') as file:\n",
        "    reader = csv.DictReader(file, delimiter=';')\n",
        "    i = 0\n",
        "    for row in reader:\n",
        "        i += 1\n",
        "        # обработка ошибки неполных данных\n",
        "        if None in row.values():\n",
        "            print(\"Ошибка данных в строке\", i)\n",
        "            continue\n",
        "        # обработка ошибок, связанных с числовыми типами данных\n",
        "        if not row['sells'].isdigit():\n",
        "            print(f\"Ошибка в данных о продажах в строке {i}: это не число.\")\n",
        "            continue\n",
        "        if not row['price'].isdigit():\n",
        "            print(f\"Ошибка в данных о цене в строке {i}: это не число.\")\n",
        "            continue\n",
        "        if not row['cost'].isdigit():\n",
        "            print(f\"Ошибка в данных о стоимости в строке {i}: это не число.\")\n",
        "            continue\n",
        "        csv_ord[row['id']] = {'name': row['name'], 'date': row['date'], 'category': row['category'],\n",
        "                              'sells': int(row['sells']), 'price': int(row['price']), 'cost': int(row['cost'])}\n",
        "        # Если товара нет в таблице - он туда просто добавляются\n",
        "        # Иначе к старым значениям продаж и выручки прибавляются данные из нового заказа\n",
        "        if hashtable.get(row['name']) is None:\n",
        "            hashtable.put(row['name'], {'category': row['category'],\n",
        "                                        'sells': int(row['sells']), 'price': int(row['price']), 'cost': int(row['cost'])})\n",
        "        else:\n",
        "            tmp = hashtable.get(row['name'],)\n",
        "            hashtable.put(row['name'], {'category': row['category'], 'sells': tmp['sells'] + int(row['sells']),\n",
        "                                        'price': tmp['price'], 'cost': int(row['cost']) + tmp['cost']})\n",
        "\n",
        "print(csv_ord)\n",
        "sold_labels = hashtable.get_all_labels() # получение списка всех товаров, проданных в магазине\n",
        "print(sold_labels)"
      ]
    },
    {
      "cell_type": "markdown",
      "metadata": {
        "id": "c4ZbO6YrKlES"
      },
      "source": [
        "## Общая выручка магазина"
      ]
    },
    {
      "cell_type": "code",
      "execution_count": null,
      "metadata": {
        "colab": {
          "base_uri": "https://localhost:8080/"
        },
        "id": "EgfFCwgCKlES",
        "outputId": "3dace28f-e062-408b-a414-874b322e01ae"
      },
      "outputs": [
        {
          "output_type": "stream",
          "name": "stdout",
          "text": [
            "23413\n"
          ]
        }
      ],
      "source": [
        "def income_count():\n",
        "    sum = 0\n",
        "    for x in sold_labels:\n",
        "        sum += hashtable.get(x)['cost']\n",
        "    return sum\n",
        "\n",
        "print(income_count())"
      ]
    },
    {
      "cell_type": "markdown",
      "metadata": {
        "id": "TqZ5LLI9KlES"
      },
      "source": [
        "## Товар с самыми большими продажами"
      ]
    },
    {
      "cell_type": "code",
      "execution_count": null,
      "metadata": {
        "colab": {
          "base_uri": "https://localhost:8080/"
        },
        "id": "Nr2i-hqPKlET",
        "outputId": "4e525df1-a3f8-4529-948c-42a536fd9833"
      },
      "outputs": [
        {
          "output_type": "stream",
          "name": "stdout",
          "text": [
            "{'Банка кофе': {'category': 'Бакалея', 'sells': 9, 'price': 296, 'cost': 2595}}\n"
          ]
        }
      ],
      "source": [
        "def max_count():\n",
        "    res = sold_labels[0]\n",
        "    for x in sold_labels[1:]:\n",
        "        if hashtable.get(x)['sells'] > hashtable.get(res)['sells']:\n",
        "            res = x\n",
        "    return {res: hashtable.get(res)}\n",
        "\n",
        "print(max_count())"
      ]
    },
    {
      "cell_type": "markdown",
      "metadata": {
        "id": "jaluG2xOKlET"
      },
      "source": [
        "## Товар с самой большой доходностью"
      ]
    },
    {
      "cell_type": "code",
      "execution_count": null,
      "metadata": {
        "colab": {
          "base_uri": "https://localhost:8080/"
        },
        "id": "68rBnEznKlET",
        "outputId": "3ebd51cd-0810-48d4-a560-7f8862c73598"
      },
      "outputs": [
        {
          "output_type": "stream",
          "name": "stdout",
          "text": [
            "{'Куриная грудка': {'category': 'Рыба и мясо', 'sells': 6, 'price': 539, 'cost': 2964}}\n"
          ]
        }
      ],
      "source": [
        "def max_income():\n",
        "    res = sold_labels[0]\n",
        "    for x in sold_labels[1:]:\n",
        "        if hashtable.get(x)['cost'] > hashtable.get(res)['cost']:\n",
        "            res = x\n",
        "    return {res: hashtable.get(res)}\n",
        "\n",
        "print(max_income())"
      ]
    },
    {
      "cell_type": "markdown",
      "metadata": {
        "id": "q3b8xLUoKlET"
      },
      "source": [
        "## Составление отчёта о работе магазина"
      ]
    },
    {
      "cell_type": "markdown",
      "metadata": {
        "id": "YOIGqzajKlET"
      },
      "source": [
        "Перед выводом графика самых продаваемых товаров, товары сортируются по количеству продаж с помощью сортировки вставками"
      ]
    },
    {
      "cell_type": "code",
      "execution_count": null,
      "metadata": {
        "id": "SKTtFMyUKlEU"
      },
      "outputs": [],
      "source": [
        "from copy import deepcopy\n",
        "\n",
        "def labeled_insertion_sort(lb, ar):\n",
        "    label = deepcopy(lb)\n",
        "    array = deepcopy(ar)\n",
        "    for i in range(1, len(array)):\n",
        "        insert_item = array[i]\n",
        "        insert_label = label[i]\n",
        "        j = i - 1\n",
        "        while j >= 0 and array[j] > insert_item:\n",
        "            array[j + 1] = array[j]\n",
        "            label[j + 1] = label[j]\n",
        "            j -= 1\n",
        "        array[j + 1] = insert_item\n",
        "        label[j + 1] = insert_label\n",
        "    return label, array\n"
      ]
    },
    {
      "cell_type": "code",
      "execution_count": null,
      "metadata": {
        "colab": {
          "base_uri": "https://localhost:8080/",
          "height": 925
        },
        "id": "kXer7AqWKlEU",
        "outputId": "b3fca577-9ce1-4671-f007-6f342f38ffda"
      },
      "outputs": [
        {
          "output_type": "stream",
          "name": "stdout",
          "text": [
            "Отчёт о товарах магазина.\n",
            "Общая выручка магазина: 23413\n",
            "\n",
            "Товар \"Батон\" был продан 1 раз. Его продажи составили 0% от выручки.\n",
            "Товар \"Банка кофе\" был продан 9 раз. Его продажи составили 11% от выручки.\n",
            "Товар \"Лапша\" был продан 9 раз. Его продажи составили 3% от выручки.\n",
            "Товар \"Пирог\" был продан 2 раз. Его продажи составили 4% от выручки.\n",
            "Товар \"Кефир\" был продан 1 раз. Его продажи составили 0% от выручки.\n",
            "Товар \"Куриная грудка\" был продан 6 раз. Его продажи составили 13% от выручки.\n",
            "Товар \"Орехи\" был продан 1 раз. Его продажи составили 2% от выручки.\n",
            "Товар \"Пицца\" был продан 3 раз. Его продажи составили 6% от выручки.\n",
            "Товар \"Чипсы\" был продан 3 раз. Его продажи составили 2% от выручки.\n",
            "Товар \"Бананы\" был продан 2 раз. Его продажи составили 2% от выручки.\n",
            "Товар \"Молоко\" был продан 5 раз. Его продажи составили 2% от выручки.\n",
            "Товар \"Огурцы\" был продан 6 раз. Его продажи составили 6% от выручки.\n",
            "Товар \"Лимонад\" был продан 5 раз. Его продажи составили 3% от выручки.\n",
            "Товар \"Булочка\" был продан 3 раз. Его продажи составили 1% от выручки.\n",
            "Товар \"Сосиски\" был продан 2 раз. Его продажи составили 3% от выручки.\n",
            "Товар \"Зубная паста\" был продан 1 раз. Его продажи составили 1% от выручки.\n",
            "Товар \"Печенье\" был продан 4 раз. Его продажи составили 3% от выручки.\n",
            "Товар \"Пряники\" был продан 3 раз. Его продажи составили 1% от выручки.\n",
            "Товар \"Сок\" был продан 3 раз. Его продажи составили 3% от выручки.\n",
            "Товар \"Шампунь\" был продан 1 раз. Его продажи составили 2% от выручки.\n",
            "Товар \"Салфетки\" был продан 1 раз. Его продажи составили 1% от выручки.\n",
            "Товар \"Апельсин\" был продан 1 раз. Его продажи составили 2% от выручки.\n",
            "Товар \"Пельмени\" был продан 6 раз. Его продажи составили 10% от выручки.\n",
            "Товар \"Помидоры\" был продан 3 раз. Его продажи составили 4% от выручки.\n",
            "Товар \"Яйца\" был продан 1 раз. Его продажи составили 1% от выручки.\n",
            "Товар \"Шоколадка\" был продан 6 раз. Его продажи составили 5% от выручки.\n",
            "Товар \"Манго\" был продан 7 раз. Его продажи составили 11% от выручки.\n"
          ]
        },
        {
          "output_type": "display_data",
          "data": {
            "text/plain": [
              "<Figure size 3500x1000 with 1 Axes>"
            ],
            "image/png": "[encoded data removed]"
          },
          "metadata": {}
        }
      ],
      "source": [
        "import matplotlib.pyplot as plt\n",
        "\n",
        "def report():\n",
        "    income = income_count()\n",
        "    print('Отчёт о товарах магазина.')\n",
        "    print(f\"Общая выручка магазина: {income}\\n\")\n",
        "    x_label = []\n",
        "    y_label = []\n",
        "    for x in sold_labels:\n",
        "        tmp = hashtable.get(x)\n",
        "        part = round(tmp['cost'] / income * 100) # доля в выручке\n",
        "        x_label += [x]\n",
        "        y_label += [tmp['sells']]\n",
        "        print(f\"Товар \\\"{x}\\\" был продан {tmp['sells']} раз. Его продажи составили {part}% от выручки.\")\n",
        "    x_label, y_label = labeled_insertion_sort(x_label, y_label)\n",
        "    fig= plt.figure(figsize=(35, 10))\n",
        "    plt.bar(x_label, y_label, label=\"Количество продаж\", color=\"fuchsia\", width=0.5)\n",
        "    plt.xlabel(\"Товар\")\n",
        "    plt.ylabel(\"Количество продаж, ед. товара\")\n",
        "    plt.title(\"Количество продаж по товарам\")\n",
        "\n",
        "    plt.legend()\n",
        "    plt.show()\n",
        "\n",
        "\n",
        "report()"
      ]
    },
    {
      "cell_type": "code",
      "execution_count": 1,
      "metadata": {
        "colab": {
          "base_uri": "https://localhost:8080/",
          "height": 315
        },
        "id": "kjhWM63OKlEU",
        "outputId": "897a66db-c47b-4780-ddec-1478931900ba"
      },
      "outputs": [
        {
          "name": "stdout",
          "output_type": "stream",
          "text": [
            "22.05.2024\n"
          ]
        },
        {
          "output_type": "error",
          "ename": "NameError",
          "evalue": "name 'Hash' is not defined",
          "traceback": [
            "\u001b[0;31m---------------------------------------------------------------------------\u001b[0m",
            "\u001b[0;31mNameError\u001b[0m                                 Traceback (most recent call last)",
            "\u001b[0;32m<ipython-input-1-8fd9fbd1a633>\u001b[0m in \u001b[0;36m<cell line: 31>\u001b[0;34m()\u001b[0m\n\u001b[1;32m     29\u001b[0m     \u001b[0;32mreturn\u001b[0m \u001b[0;32mNone\u001b[0m\u001b[0;34m\u001b[0m\u001b[0;34m\u001b[0m\u001b[0m\n\u001b[1;32m     30\u001b[0m \u001b[0;34m\u001b[0m\u001b[0m\n\u001b[0;32m---> 31\u001b[0;31m \u001b[0mdate_parting\u001b[0m\u001b[0;34m(\u001b[0m\u001b[0minput\u001b[0m\u001b[0;34m(\u001b[0m\u001b[0;34m)\u001b[0m\u001b[0;34m)\u001b[0m\u001b[0;34m\u001b[0m\u001b[0;34m\u001b[0m\u001b[0m\n\u001b[0m",
            "\u001b[0;32m<ipython-input-1-8fd9fbd1a633>\u001b[0m in \u001b[0;36mdate_parting\u001b[0;34m(date)\u001b[0m\n\u001b[1;32m     10\u001b[0m                 \u001b[0;34m(\u001b[0m\u001b[0;36m0\u001b[0m \u001b[0;34m<\u001b[0m \u001b[0midate\u001b[0m\u001b[0;34m[\u001b[0m\u001b[0;36m0\u001b[0m\u001b[0;34m]\u001b[0m \u001b[0;34m<\u001b[0m \u001b[0;36m31\u001b[0m \u001b[0;32mand\u001b[0m \u001b[0midate\u001b[0m\u001b[0;34m[\u001b[0m\u001b[0;36m1\u001b[0m\u001b[0;34m]\u001b[0m \u001b[0;32min\u001b[0m \u001b[0;34m(\u001b[0m\u001b[0;36m4\u001b[0m\u001b[0;34m,\u001b[0m \u001b[0;36m6\u001b[0m\u001b[0;34m,\u001b[0m \u001b[0;36m9\u001b[0m\u001b[0;34m,\u001b[0m \u001b[0;36m11\u001b[0m\u001b[0;34m)\u001b[0m\u001b[0;34m)\u001b[0m \u001b[0;32mor\u001b[0m\u001b[0;31m\\\u001b[0m\u001b[0;34m\u001b[0m\u001b[0;34m\u001b[0m\u001b[0m\n\u001b[1;32m     11\u001b[0m                     \u001b[0;34m(\u001b[0m\u001b[0;36m0\u001b[0m \u001b[0;34m<\u001b[0m \u001b[0midate\u001b[0m\u001b[0;34m[\u001b[0m\u001b[0;36m0\u001b[0m\u001b[0;34m]\u001b[0m \u001b[0;34m<\u001b[0m \u001b[0;36m30\u001b[0m \u001b[0;32mand\u001b[0m \u001b[0midate\u001b[0m\u001b[0;34m[\u001b[0m\u001b[0;36m1\u001b[0m\u001b[0;34m]\u001b[0m \u001b[0;34m==\u001b[0m \u001b[0;36m2\u001b[0m\u001b[0;34m)\u001b[0m\u001b[0;34m:\u001b[0m\u001b[0;34m\u001b[0m\u001b[0;34m\u001b[0m\u001b[0m\n\u001b[0;32m---> 12\u001b[0;31m                 \u001b[0mdatehash\u001b[0m \u001b[0;34m=\u001b[0m \u001b[0mHash\u001b[0m\u001b[0;34m(\u001b[0m\u001b[0;36m256\u001b[0m\u001b[0;34m)\u001b[0m\u001b[0;34m\u001b[0m\u001b[0;34m\u001b[0m\u001b[0m\n\u001b[0m\u001b[1;32m     13\u001b[0m                 \u001b[0msum\u001b[0m \u001b[0;34m=\u001b[0m \u001b[0;36m0\u001b[0m\u001b[0;34m\u001b[0m\u001b[0;34m\u001b[0m\u001b[0m\n\u001b[1;32m     14\u001b[0m                 \u001b[0;32mfor\u001b[0m \u001b[0mx\u001b[0m \u001b[0;32min\u001b[0m \u001b[0mcsv_ord\u001b[0m\u001b[0;34m:\u001b[0m\u001b[0;34m\u001b[0m\u001b[0;34m\u001b[0m\u001b[0m\n",
            "\u001b[0;31mNameError\u001b[0m: name 'Hash' is not defined"
          ]
        }
      ],
      "source": [
        "import random\n",
        "\n",
        "def date_parting(date):\n",
        "    date = date.strip()\n",
        "    if len(date.split('.')) == 3:\n",
        "        ddate = date.split('.')\n",
        "        if ddate[0].isdigit() and ddate[1].isdigit() and ddate[2].isdigit():\n",
        "            idate = [int(x) for x in ddate]\n",
        "            if (0 < idate[0] < 32 and idate[1] in (1, 3, 5, 7, 8, 10, 12)) or\\\n",
        "                (0 < idate[0] < 31 and idate[1] in (4, 6, 9, 11)) or\\\n",
        "                    (0 < idate[0] < 30 and idate[1] == 2):\n",
        "                datehash = Hash(256)\n",
        "                sum = 0\n",
        "                for x in csv_ord:\n",
        "                    if csv_ord[x][\"date\"] == date.strip():\n",
        "                        if datehash.get(csv_ord[x][\"name\"]) is None:\n",
        "                            datehash.put(csv_ord[x][\"name\"], csv_ord[x][\"cost\"])\n",
        "                        else:\n",
        "                            datehash.put(csv_ord[x][\"name\"], csv_ord[x][\"cost\"] + datehash.get(csv_ord[x][\"name\"]))\n",
        "                        sum += csv_ord[x][\"cost\"]\n",
        "                labels = datehash.get_all_labels()\n",
        "                fig = plt.figure(figsize=(15, 7))\n",
        "                plt.title(\"Выручка по товарам \" + date)\n",
        "                plt.pie([datehash.get(x) for x in labels], autopct=lambda x: round(x / 100 * sum), labels=labels,\n",
        "                        explode=[random.uniform(0, 0.1) for x in range(len(labels))], shadow=True)\n",
        "                plt.legend(labels, title=\"Товары\", bbox_to_anchor=(0.1, 1 ), loc='upper right', borderaxespad=0)\n",
        "                return\n",
        "    print(\"Ошибка вводных данных!\")\n",
        "    return None\n",
        "\n",
        "date_parting(input())"
      ]
    }
  ],
  "metadata": {
    "kernelspec": {
      "display_name": "Python 3",
      "language": "python",
      "name": "python3"
    },
    "language_info": {
      "codemirror_mode": {
        "name": "ipython",
        "version": 3
      },
      "file_extension": ".py",
      "mimetype": "text/x-python",
      "name": "python",
      "nbconvert_exporter": "python",
      "pygments_lexer": "ipython3",
      "version": "3.12.3"
    },
    "colab": {
      "provenance": []
    }
  },
  "nbformat": 4,
  "nbformat_minor": 0
}